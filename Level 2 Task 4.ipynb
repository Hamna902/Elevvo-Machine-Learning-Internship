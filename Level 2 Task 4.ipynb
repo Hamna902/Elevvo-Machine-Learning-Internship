{
 "cells": [
  {
   "cell_type": "markdown",
   "id": "cbd3896e-91b8-4223-8ba5-4bb32311a308",
   "metadata": {},
   "source": [
    "# Task 4: Loan Approval Prediction (Level 2)"
   ]
  },
  {
   "cell_type": "markdown",
   "id": "47b91e80-6e38-4e30-99f2-80c94503ab83",
   "metadata": {},
   "source": [
    "## Step 1: Load and Explore"
   ]
  },
  {
   "cell_type": "code",
   "execution_count": 2,
   "id": "c34f94ff-710c-45b1-b337-fbedf1a01876",
   "metadata": {},
   "outputs": [
    {
     "name": "stdout",
     "output_type": "stream",
     "text": [
      "   loan_id  no_of_dependents      education self_employed  income_annum  \\\n",
      "0        1                 2       Graduate            No       9600000   \n",
      "1        2                 0   Not Graduate           Yes       4100000   \n",
      "2        3                 3       Graduate            No       9100000   \n",
      "3        4                 3       Graduate            No       8200000   \n",
      "4        5                 5   Not Graduate           Yes       9800000   \n",
      "\n",
      "   loan_amount  loan_term  cibil_score  residential_assets_value  \\\n",
      "0     29900000         12          778                   2400000   \n",
      "1     12200000          8          417                   2700000   \n",
      "2     29700000         20          506                   7100000   \n",
      "3     30700000          8          467                  18200000   \n",
      "4     24200000         20          382                  12400000   \n",
      "\n",
      "   commercial_assets_value  luxury_assets_value  bank_asset_value loan_status  \n",
      "0                 17600000             22700000           8000000    Approved  \n",
      "1                  2200000              8800000           3300000    Rejected  \n",
      "2                  4500000             33300000          12800000    Rejected  \n",
      "3                  3300000             23300000           7900000    Rejected  \n",
      "4                  8200000             29400000           5000000    Rejected  \n",
      "loan_status\n",
      "Approved    2656\n",
      "Rejected    1613\n",
      "Name: count, dtype: int64\n",
      "loan_id                     0\n",
      "no_of_dependents            0\n",
      "education                   0\n",
      "self_employed               0\n",
      "income_annum                0\n",
      "loan_amount                 0\n",
      "loan_term                   0\n",
      "cibil_score                 0\n",
      "residential_assets_value    0\n",
      "commercial_assets_value     0\n",
      "luxury_assets_value         0\n",
      "bank_asset_value            0\n",
      "loan_status                 0\n",
      "dtype: int64\n"
     ]
    }
   ],
   "source": [
    "import pandas as pd\n",
    "import matplotlib.pyplot as plt\n",
    "from sklearn.model_selection import train_test_split\n",
    "from sklearn.tree import DecisionTreeClassifier\n",
    "from sklearn.metrics import precision_score, recall_score, f1_score, roc_auc_score\n",
    "from sklearn.preprocessing import LabelEncoder\n",
    "\n",
    "df = pd.read_csv('loan_approval_dataset.csv')  \n",
    "df.columns = df.columns.str.strip() \n",
    "print(df.head())\n",
    "print(df['loan_status'].value_counts())  \n",
    "print(df.isnull().sum())  "
   ]
  },
  {
   "cell_type": "markdown",
   "id": "a086738e-bcdf-4116-8559-1c3ab9fd082c",
   "metadata": {},
   "source": [
    "## Step 2: Preprocessing"
   ]
  },
  {
   "cell_type": "code",
   "execution_count": 3,
   "id": "eedcaf4f-541e-4b50-ac7e-16f49701d54b",
   "metadata": {},
   "outputs": [],
   "source": [
    "le = LabelEncoder()\n",
    "for col in ['education', 'self_employed', 'loan_status']:\n",
    "    df[col] = le.fit_transform(df[col])\n",
    "\n",
    "X = df.drop('loan_status', axis=1)\n",
    "y = df['loan_status']\n",
    "\n",
    "X_train, X_test, y_train, y_test = train_test_split(X, y, test_size=0.2, random_state=42)"
   ]
  },
  {
   "cell_type": "markdown",
   "id": "63e36b7c-36ab-430f-b633-57582a595679",
   "metadata": {},
   "source": [
    "## Step 3: Train and Evaluate"
   ]
  },
  {
   "cell_type": "code",
   "execution_count": 4,
   "id": "c9bcdd16-781c-42d8-87ec-ca78efb7b97f",
   "metadata": {},
   "outputs": [
    {
     "name": "stdout",
     "output_type": "stream",
     "text": [
      "Precision: 0.9625, Recall: 0.9685534591194969, F1: 0.9655172413793104, ROC-AUC: 0.9730826997090022\n"
     ]
    }
   ],
   "source": [
    "model = DecisionTreeClassifier(random_state=42)\n",
    "model.fit(X_train, y_train)\n",
    "\n",
    "y_pred = model.predict(X_test)\n",
    "precision = precision_score(y_test, y_pred)\n",
    "recall = recall_score(y_test, y_pred)\n",
    "f1 = f1_score(y_test, y_pred)\n",
    "roc_auc = roc_auc_score(y_test, y_pred)\n",
    "print(f'Precision: {precision}, Recall: {recall}, F1: {f1}, ROC-AUC: {roc_auc}') "
   ]
  },
  {
   "cell_type": "markdown",
   "id": "688d6b95-1e5e-4c5f-ba51-5a411196fa8d",
   "metadata": {},
   "source": [
    "## Bonus: Address Imbalance with SMOTE"
   ]
  },
  {
   "cell_type": "code",
   "execution_count": 11,
   "id": "fc46d8b4-d56d-4fd4-9d9a-0c223d5542a0",
   "metadata": {},
   "outputs": [
    {
     "name": "stdout",
     "output_type": "stream",
     "text": [
      "Class distribution before SMOTE:\n",
      " loan_status\n",
      "0    2656\n",
      "1    1613\n",
      "Name: count, dtype: int64\n",
      "Class distribution after SMOTE:\n",
      " loan_status\n",
      "0    2120\n",
      "1    2120\n",
      "Name: count, dtype: int64\n",
      "Logistic Regression - Precision: 0.85, Accuracy: 0.91\n",
      "Decision Tree - Precision: 0.96, Accuracy: 0.97\n"
     ]
    }
   ],
   "source": [
    "from sklearn.preprocessing import StandardScaler, LabelEncoder\n",
    "from sklearn.linear_model import LogisticRegression\n",
    "from sklearn.tree import DecisionTreeClassifier\n",
    "from sklearn.model_selection import train_test_split\n",
    "from sklearn.metrics import precision_score, accuracy_score\n",
    "from imblearn.over_sampling import SMOTE\n",
    "\n",
    "# Load and preprocess data\n",
    "df = pd.read_csv('loan_approval_dataset.csv')\n",
    "df.columns = df.columns.str.strip()\n",
    "for col in ['education', 'self_employed', 'loan_status']:\n",
    "    df[col] = LabelEncoder().fit_transform(df[col])\n",
    "X = df.drop('loan_status', axis=1)\n",
    "y = df['loan_status']\n",
    "\n",
    "# Check class distribution before SMOTE\n",
    "print('Class distribution before SMOTE:\\n', y.value_counts())\n",
    "\n",
    "# Split data\n",
    "X_train, X_test, y_train, y_test = train_test_split(X, y, test_size=0.2, random_state=42)\n",
    "\n",
    "# Scale features\n",
    "scaler = StandardScaler()\n",
    "X_train_scaled = scaler.fit_transform(X_train)\n",
    "X_test_scaled = scaler.transform(X_test)\n",
    "\n",
    "# Apply SMOTE to training data only\n",
    "smote = SMOTE(random_state=42)\n",
    "X_train_smote, y_train_smote = smote.fit_resample(X_train_scaled, y_train)\n",
    "\n",
    "# Check class distribution after SMOTE\n",
    "print('Class distribution after SMOTE:\\n', pd.Series(y_train_smote).value_counts())\n",
    "\n",
    "# Model 1: Logistic Regression\n",
    "log_reg = LogisticRegression(max_iter=1000, random_state=42)\n",
    "log_reg.fit(X_train_smote, y_train_smote)\n",
    "y_pred_log = log_reg.predict(X_test_scaled)\n",
    "print(f'Logistic Regression - Precision: {precision_score(y_test, y_pred_log):.2f}, Accuracy: {accuracy_score(y_test, y_pred_log):.2f}')\n",
    "\n",
    "# Model 2: Decision Tree\n",
    "dt = DecisionTreeClassifier(random_state=42)\n",
    "dt.fit(X_train_smote, y_train_smote)\n",
    "y_pred_dt = dt.predict(X_test_scaled)\n",
    "print(f'Decision Tree - Precision: {precision_score(y_test, y_pred_dt):.2f}, Accuracy: {accuracy_score(y_test, y_pred_dt):.2f}')"
   ]
  },
  {
   "cell_type": "markdown",
   "id": "d47afe64-7ebf-47be-b2f7-cd2d96a39261",
   "metadata": {},
   "source": [
    "## Hyperparameter Tuning for Decision Tree:"
   ]
  },
  {
   "cell_type": "code",
   "execution_count": 12,
   "id": "b0fb3f26-3fa1-40d4-a961-66ea6ef50947",
   "metadata": {},
   "outputs": [
    {
     "name": "stdout",
     "output_type": "stream",
     "text": [
      "Tuned Decision Tree - Precision: 0.97\n"
     ]
    }
   ],
   "source": [
    "from sklearn.model_selection import GridSearchCV\n",
    "\n",
    "param_grid = {'max_depth': [10, 20, None], 'min_samples_split': [2, 5]}\n",
    "grid_search = GridSearchCV(DecisionTreeClassifier(random_state=42), param_grid, cv=3)\n",
    "grid_search.fit(X_train_smote, y_train_smote)\n",
    "y_pred_tuned = grid_search.predict(X_test_scaled)\n",
    "print(f'Tuned Decision Tree - Precision: {precision_score(y_test, y_pred_tuned):.2f}')"
   ]
  }
 ],
 "metadata": {
  "kernelspec": {
   "display_name": "Python 3 (ipykernel)",
   "language": "python",
   "name": "python3"
  },
  "language_info": {
   "codemirror_mode": {
    "name": "ipython",
    "version": 3
   },
   "file_extension": ".py",
   "mimetype": "text/x-python",
   "name": "python",
   "nbconvert_exporter": "python",
   "pygments_lexer": "ipython3",
   "version": "3.9.13"
  }
 },
 "nbformat": 4,
 "nbformat_minor": 5
}
