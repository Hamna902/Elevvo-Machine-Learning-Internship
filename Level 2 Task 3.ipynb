{
 "cells": [
  {
   "cell_type": "markdown",
   "id": "36c44c19-65c0-4c46-b826-a321da74956b",
   "metadata": {},
   "source": [
    "# Task 3: Forest Cover Type Classification (Level 2)"
   ]
  },
  {
   "cell_type": "markdown",
   "id": "90388593-80f6-4a1e-8771-5ddaa5d6e0e1",
   "metadata": {},
   "source": [
    "## Step 1: Load and Explore"
   ]
  },
  {
   "cell_type": "code",
   "execution_count": 6,
   "id": "1c2baf6d-fd32-48b8-bf18-227eab32a6b5",
   "metadata": {},
   "outputs": [
    {
     "name": "stdout",
     "output_type": "stream",
     "text": [
      "        Elevation  Aspect  Slope  Horizontal_Distance_To_Hydrology  \\\n",
      "250728       3351     206     27                               726   \n",
      "246788       2732     129      7                               212   \n",
      "407714       2572      24      9                               201   \n",
      "25713        2824      69     13                               417   \n",
      "21820        2529      84      5                               120   \n",
      "\n",
      "        Vertical_Distance_To_Hydrology  Horizontal_Distance_To_Roadways  \\\n",
      "250728                             124                             3813   \n",
      "246788                               1                             1082   \n",
      "407714                              25                              957   \n",
      "25713                               39                             3223   \n",
      "21820                                9                             1092   \n",
      "\n",
      "        Hillshade_9am  Hillshade_Noon  Hillshade_3pm  \\\n",
      "250728            192             252            180   \n",
      "246788            231             236            137   \n",
      "407714            216             222            142   \n",
      "25713             233             214            110   \n",
      "21820             227             231            139   \n",
      "\n",
      "        Horizontal_Distance_To_Fire_Points  ...  Soil_Type_31  Soil_Type_32  \\\n",
      "250728                                2271  ...             0             0   \n",
      "246788                                 912  ...             0             0   \n",
      "407714                                2191  ...             0             0   \n",
      "25713                                 6478  ...             0             0   \n",
      "21820                                 4983  ...             0             0   \n",
      "\n",
      "        Soil_Type_33  Soil_Type_34  Soil_Type_35  Soil_Type_36  Soil_Type_37  \\\n",
      "250728             0             0             0             0             1   \n",
      "246788             0             0             0             0             0   \n",
      "407714             0             0             0             0             0   \n",
      "25713              0             0             0             0             0   \n",
      "21820              0             0             0             0             0   \n",
      "\n",
      "        Soil_Type_38  Soil_Type_39  Cover_Type  \n",
      "250728             0             0           1  \n",
      "246788             0             0           2  \n",
      "407714             0             0           2  \n",
      "25713              0             0           2  \n",
      "21820              0             0           2  \n",
      "\n",
      "[5 rows x 55 columns]\n",
      "Cover_Type\n",
      "2    28248\n",
      "1    21297\n",
      "3     3607\n",
      "7     2052\n",
      "6     1706\n",
      "5      932\n",
      "4      259\n",
      "Name: count, dtype: int64\n",
      "Elevation                             0\n",
      "Aspect                                0\n",
      "Slope                                 0\n",
      "Horizontal_Distance_To_Hydrology      0\n",
      "Vertical_Distance_To_Hydrology        0\n",
      "Horizontal_Distance_To_Roadways       0\n",
      "Hillshade_9am                         0\n",
      "Hillshade_Noon                        0\n",
      "Hillshade_3pm                         0\n",
      "Horizontal_Distance_To_Fire_Points    0\n",
      "Wilderness_Area_0                     0\n",
      "Wilderness_Area_1                     0\n",
      "Wilderness_Area_2                     0\n",
      "Wilderness_Area_3                     0\n",
      "Soil_Type_0                           0\n",
      "Soil_Type_1                           0\n",
      "Soil_Type_2                           0\n",
      "Soil_Type_3                           0\n",
      "Soil_Type_4                           0\n",
      "Soil_Type_5                           0\n",
      "Soil_Type_6                           0\n",
      "Soil_Type_7                           0\n",
      "Soil_Type_8                           0\n",
      "Soil_Type_9                           0\n",
      "Soil_Type_10                          0\n",
      "Soil_Type_11                          0\n",
      "Soil_Type_12                          0\n",
      "Soil_Type_13                          0\n",
      "Soil_Type_14                          0\n",
      "Soil_Type_15                          0\n",
      "Soil_Type_16                          0\n",
      "Soil_Type_17                          0\n",
      "Soil_Type_18                          0\n",
      "Soil_Type_19                          0\n",
      "Soil_Type_20                          0\n",
      "Soil_Type_21                          0\n",
      "Soil_Type_22                          0\n",
      "Soil_Type_23                          0\n",
      "Soil_Type_24                          0\n",
      "Soil_Type_25                          0\n",
      "Soil_Type_26                          0\n",
      "Soil_Type_27                          0\n",
      "Soil_Type_28                          0\n",
      "Soil_Type_29                          0\n",
      "Soil_Type_30                          0\n",
      "Soil_Type_31                          0\n",
      "Soil_Type_32                          0\n",
      "Soil_Type_33                          0\n",
      "Soil_Type_34                          0\n",
      "Soil_Type_35                          0\n",
      "Soil_Type_36                          0\n",
      "Soil_Type_37                          0\n",
      "Soil_Type_38                          0\n",
      "Soil_Type_39                          0\n",
      "Cover_Type                            0\n",
      "dtype: int64\n"
     ]
    }
   ],
   "source": [
    "import pandas as pd\n",
    "import matplotlib.pyplot as plt\n",
    "from sklearn.model_selection import train_test_split\n",
    "from sklearn.ensemble import RandomForestClassifier\n",
    "from sklearn.metrics import accuracy_score, confusion_matrix, ConfusionMatrixDisplay\n",
    "import xgboost as xgb\n",
    "\n",
    "# Headers from UCI description\n",
    "columns = ['Elevation', 'Aspect', 'Slope', 'Horizontal_Distance_To_Hydrology', 'Vertical_Distance_To_Hydrology',\n",
    "           'Horizontal_Distance_To_Roadways', 'Hillshade_9am', 'Hillshade_Noon', 'Hillshade_3pm',\n",
    "           'Horizontal_Distance_To_Fire_Points'] + [f'Wilderness_Area_{i}' for i in range(4)] + [f'Soil_Type_{i}' for i in range(40)] + ['Cover_Type']\n",
    "\n",
    "# Load data, skip the first row (potential header), and set low_memory=False to avoid DtypeWarning\n",
    "df = pd.read_csv('covertype.csv', header=None, names=columns, skiprows=1, low_memory=False)  \n",
    "\n",
    "# Sample 10% to manage memory\n",
    "df = df.sample(frac=0.1, random_state=42)\n",
    "\n",
    "# Explore\n",
    "print(df.head())\n",
    "print(df['Cover_Type'].value_counts()) \n",
    "print(df.isnull().sum()) "
   ]
  },
  {
   "cell_type": "markdown",
   "id": "bab3c1a4-c71c-432a-a4e6-8c2f41272671",
   "metadata": {},
   "source": [
    "## Step 2: Split Data"
   ]
  },
  {
   "cell_type": "code",
   "execution_count": 7,
   "id": "9b094e37-bdf3-438c-87d9-984cd41fa060",
   "metadata": {},
   "outputs": [
    {
     "name": "stdout",
     "output_type": "stream",
     "text": [
      "(46480, 54) (11621, 54)\n"
     ]
    }
   ],
   "source": [
    "# Features and target\n",
    "X = df.drop('Cover_Type', axis=1)\n",
    "y = df['Cover_Type'] - 1  # Convert to 0-based indexing for XGBoost\n",
    "\n",
    "# Split into train/test\n",
    "X_train, X_test, y_train, y_test = train_test_split(X, y, test_size=0.2, random_state=42)\n",
    "\n",
    "# Check shapes\n",
    "print(X_train.shape, X_test.shape)  # Expect (~46,400, 54), (~11,600, 54)"
   ]
  },
  {
   "cell_type": "markdown",
   "id": "080f5adb-f0fc-4ec9-bf29-35d054cdc0ae",
   "metadata": {},
   "source": [
    "## Step 3: Train and Evaluate"
   ]
  },
  {
   "cell_type": "code",
   "execution_count": 9,
   "id": "4405c293-7ed8-48ae-8718-039547986001",
   "metadata": {},
   "outputs": [
    {
     "name": "stdout",
     "output_type": "stream",
     "text": [
      "Accuracy: 0.85\n"
     ]
    },
    {
     "data": {
      "image/png": "[encoded data removed]",
      "text/plain": [
       "<Figure size 640x480 with 2 Axes>"
      ]
     },
     "metadata": {},
     "output_type": "display_data"
    }
   ],
   "source": [
    "# Train XGBoost model\n",
    "model = xgb.XGBClassifier(objective='multi:softprob', random_state=42)\n",
    "model.fit(X_train, y_train)\n",
    "\n",
    "# Predict and evaluate\n",
    "y_pred = model.predict(X_test)\n",
    "accuracy = accuracy_score(y_test, y_pred)\n",
    "print(f'Accuracy: {accuracy:.2f}')  \n",
    "\n",
    "# Confusion Matrix \n",
    "cm = confusion_matrix(y_test, y_pred)\n",
    "disp = ConfusionMatrixDisplay(confusion_matrix=cm)\n",
    "disp.plot()\n",
    "plt.title('Confusion Matrix')\n",
    "plt.savefig('confusion_matrix.png')  # Save for submission\n",
    "plt.show()"
   ]
  },
  {
   "cell_type": "markdown",
   "id": "0d3092d1-0b4e-4cc6-90fb-1cd100e5ce3f",
   "metadata": {},
   "source": [
    "## Bonus:Compare Random Forest"
   ]
  },
  {
   "cell_type": "code",
   "execution_count": 10,
   "id": "266c2884-87f8-4564-8c20-1bcf98ab8a66",
   "metadata": {},
   "outputs": [
    {
     "name": "stdout",
     "output_type": "stream",
     "text": [
      "Random Forest Accuracy: 0.8725582996299802\n"
     ]
    }
   ],
   "source": [
    "rf_model = RandomForestClassifier(random_state=42)\n",
    "rf_model.fit(X_train, y_train)\n",
    "rf_pred = rf_model.predict(X_test)\n",
    "rf_acc = accuracy_score(y_test, rf_pred)\n",
    "print(f'Random Forest Accuracy: {rf_acc}')"
   ]
  }
 ],
 "metadata": {
  "kernelspec": {
   "display_name": "Python 3 (ipykernel)",
   "language": "python",
   "name": "python3"
  },
  "language_info": {
   "codemirror_mode": {
    "name": "ipython",
    "version": 3
   },
   "file_extension": ".py",
   "mimetype": "text/x-python",
   "name": "python",
   "nbconvert_exporter": "python",
   "pygments_lexer": "ipython3",
   "version": "3.9.13"
  }
 },
 "nbformat": 4,
 "nbformat_minor": 5
}
