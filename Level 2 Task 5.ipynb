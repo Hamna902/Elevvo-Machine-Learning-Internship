{
 "cells": [
  {
   "cell_type": "markdown",
   "id": "048a7731-1262-4fb6-a951-3ec3511d87f5",
   "metadata": {},
   "source": [
    "# Task 5: Movie Recommendation System (Level 2)"
   ]
  },
  {
   "cell_type": "markdown",
   "id": "786134cd-38ea-4395-8bcc-39cebb8e5a49",
   "metadata": {},
   "source": [
    "## Step 1: Load and Explore Data"
   ]
  },
  {
   "cell_type": "code",
   "execution_count": 1,
   "id": "89b70652-a073-49ce-92de-5f354d42e9d1",
   "metadata": {},
   "outputs": [
    {
     "name": "stdout",
     "output_type": "stream",
     "text": [
      "   user_id  movie_id  rating  timestamp                       title\n",
      "0      196       242       3  881250949                Kolya (1996)\n",
      "1      186       302       3  891717742    L.A. Confidential (1997)\n",
      "2       22       377       1  878887116         Heavyweights (1994)\n",
      "3      244        51       2  880606923  Legends of the Fall (1994)\n",
      "4      166       346       1  886397596         Jackie Brown (1997)\n",
      "            user_id       movie_id         rating     timestamp\n",
      "count  100000.00000  100000.000000  100000.000000  1.000000e+05\n",
      "mean      462.48475     425.530130       3.529860  8.835289e+08\n",
      "std       266.61442     330.798356       1.125674  5.343856e+06\n",
      "min         1.00000       1.000000       1.000000  8.747247e+08\n",
      "25%       254.00000     175.000000       3.000000  8.794487e+08\n",
      "50%       447.00000     322.000000       4.000000  8.828269e+08\n",
      "75%       682.00000     631.000000       4.000000  8.882600e+08\n",
      "max       943.00000    1682.000000       5.000000  8.932866e+08\n",
      "Unique users: 943, Movies: 1682\n"
     ]
    }
   ],
   "source": [
    "import pandas as pd\n",
    "import numpy as np\n",
    "from sklearn.metrics.pairwise import cosine_similarity\n",
    "from sklearn.model_selection import train_test_split\n",
    "from collections import defaultdict\n",
    "\n",
    "# Load ratings (user_id, movie_id, rating, timestamp)\n",
    "ratings = pd.read_csv('ml-100k/u.data', sep='\\t', names=['user_id', 'movie_id', 'rating', 'timestamp'])\n",
    "\n",
    "# Load movies (movie_id, title, ...)\n",
    "movies = pd.read_csv('ml-100k/u.item', sep='|', encoding='latin-1', names=['movie_id', 'title', 'release_date', 'video_release_date', 'imdb_url'] + [f'genre_{i}' for i in range(19)])\n",
    "\n",
    "# Merge\n",
    "data = pd.merge(ratings, movies[['movie_id', 'title']], on='movie_id')\n",
    "\n",
    "# Explore\n",
    "print(data.head())\n",
    "print(data.describe())\n",
    "print(f\"Unique users: {data['user_id'].nunique()}, Movies: {data['movie_id'].nunique()}\")"
   ]
  },
  {
   "cell_type": "markdown",
   "id": "fd967e5a-8cec-4b74-9b67-9ba3c9124c0e",
   "metadata": {},
   "source": [
    "## Step 2: Create User-Item Matrix"
   ]
  },
  {
   "cell_type": "code",
   "execution_count": 2,
   "id": "b573f750-832e-430a-9cb5-5f3147a8971f",
   "metadata": {},
   "outputs": [
    {
     "name": "stdout",
     "output_type": "stream",
     "text": [
      "(943, 1682)\n"
     ]
    }
   ],
   "source": [
    "# Create user-item matrix (rows: users, cols: movies, values: ratings)\n",
    "user_item_matrix = data.pivot_table(index='user_id', columns='movie_id', values='rating')\n",
    "\n",
    "# Fill NaN with 0 (unrated)\n",
    "user_item_matrix = user_item_matrix.fillna(0)\n",
    "\n",
    "print(user_item_matrix.shape)  # (~943, ~1682)"
   ]
  },
  {
   "cell_type": "markdown",
   "id": "0241187e-4d00-4493-a498-ff1828a12f5a",
   "metadata": {},
   "source": [
    "## Step 3: Compute User Similarity"
   ]
  },
  {
   "cell_type": "code",
   "execution_count": 3,
   "id": "4309722a-0eed-454b-ad89-d91407f93ec9",
   "metadata": {},
   "outputs": [
    {
     "name": "stdout",
     "output_type": "stream",
     "text": [
      "user_id       1         2         3         4         5         6         7    \\\n",
      "user_id                                                                         \n",
      "1        1.000000  0.166931  0.047460  0.064358  0.378475  0.430239  0.440367   \n",
      "2        0.166931  1.000000  0.110591  0.178121  0.072979  0.245843  0.107328   \n",
      "3        0.047460  0.110591  1.000000  0.344151  0.021245  0.072415  0.066137   \n",
      "4        0.064358  0.178121  0.344151  1.000000  0.031804  0.068044  0.091230   \n",
      "5        0.378475  0.072979  0.021245  0.031804  1.000000  0.237286  0.373600   \n",
      "\n",
      "user_id       8         9         10   ...       934       935       936  \\\n",
      "user_id                                ...                                 \n",
      "1        0.319072  0.078138  0.376544  ...  0.369527  0.119482  0.274876   \n",
      "2        0.103344  0.161048  0.159862  ...  0.156986  0.307942  0.358789   \n",
      "3        0.083060  0.061040  0.065151  ...  0.031875  0.042753  0.163829   \n",
      "4        0.188060  0.101284  0.060859  ...  0.052107  0.036784  0.133115   \n",
      "5        0.248930  0.056847  0.201427  ...  0.338794  0.080580  0.094924   \n",
      "\n",
      "user_id       937       938       939       940       941       942       943  \n",
      "user_id                                                                        \n",
      "1        0.189705  0.197326  0.118095  0.314072  0.148617  0.179508  0.398175  \n",
      "2        0.424046  0.319889  0.228583  0.226790  0.161485  0.172268  0.105798  \n",
      "3        0.069038  0.124245  0.026271  0.161890  0.101243  0.133416  0.026556  \n",
      "4        0.193471  0.146058  0.030138  0.196858  0.152041  0.170086  0.058752  \n",
      "5        0.079779  0.148607  0.071459  0.239955  0.139595  0.152497  0.313941  \n",
      "\n",
      "[5 rows x 943 columns]\n"
     ]
    }
   ],
   "source": [
    "# Compute similarity matrix\n",
    "user_similarity = cosine_similarity(user_item_matrix)\n",
    "\n",
    "# Convert to DataFrame for ease\n",
    "user_similarity_df = pd.DataFrame(user_similarity, index=user_item_matrix.index, columns=user_item_matrix.index)\n",
    "\n",
    "print(user_similarity_df.head())"
   ]
  },
  {
   "cell_type": "markdown",
   "id": "39278f6d-de25-4300-a7da-e99c61d78d9b",
   "metadata": {},
   "source": [
    "## Step 4: Recommend Top-Rated Unseen Movies for a Given User"
   ]
  },
  {
   "cell_type": "code",
   "execution_count": 4,
   "id": "d3b7e1fd-9a78-4d4d-a843-edb058264798",
   "metadata": {},
   "outputs": [
    {
     "name": "stdout",
     "output_type": "stream",
     "text": [
      "Recommendations for User 1:\n",
      "- Great Day in Harlem, A (1994): Predicted Rating 5.00\n",
      "- They Made Me a Criminal (1939): Predicted Rating 5.00\n",
      "- Prefontaine (1997): Predicted Rating 5.00\n",
      "- Marlene Dietrich: Shadow and Light (1996) : Predicted Rating 5.00\n",
      "- Saint of Fort Washington, The (1993): Predicted Rating 5.00\n"
     ]
    }
   ],
   "source": [
    "def recommend_movies(user_id, k=10, n_recommend=5):\n",
    "    # Get user's ratings\n",
    "    user_ratings = user_item_matrix.loc[user_id].sort_values(ascending=False)\n",
    "    \n",
    "    # Unseen movies\n",
    "    unseen_movies = user_ratings[user_ratings == 0].index.tolist()\n",
    "    \n",
    "    # Predict ratings for unseen\n",
    "    predicted_ratings = {}\n",
    "    for movie_id in unseen_movies:\n",
    "        # Weighted average from similar users\n",
    "        sim_scores = user_similarity_df[user_id].drop(user_id)  # Exclude self\n",
    "        movie_ratings = user_item_matrix[movie_id].drop(user_id)  # Other users' ratings for this movie\n",
    "        # Only users who rated this movie\n",
    "        common_users = movie_ratings[movie_ratings > 0].index\n",
    "        if len(common_users) > 0:\n",
    "            weighted_sum = np.dot(sim_scores[common_users], movie_ratings[common_users])\n",
    "            sim_sum = sim_scores[common_users].sum()\n",
    "            predicted = weighted_sum / sim_sum if sim_sum != 0 else 0\n",
    "            predicted_ratings[movie_id] = predicted\n",
    "    \n",
    "    # Top N predicted\n",
    "    top_predicted = sorted(predicted_ratings.items(), key=lambda x: x[1], reverse=True)[:n_recommend]\n",
    "    \n",
    "    # Get titles\n",
    "    recommendations = []\n",
    "    for movie_id, pred_rating in top_predicted:\n",
    "        title = movies[movies['movie_id'] == movie_id]['title'].iloc[0]\n",
    "        recommendations.append({'movie_id': movie_id, 'title': title, 'predicted_rating': pred_rating})\n",
    "    \n",
    "    return recommendations\n",
    "\n",
    "# Example for user_id=1\n",
    "recs = recommend_movies(1, n_recommend=5)\n",
    "print(\"Recommendations for User 1:\")\n",
    "for rec in recs:\n",
    "    print(f\"- {rec['title']}: Predicted Rating {rec['predicted_rating']:.2f}\")"
   ]
  },
  {
   "cell_type": "markdown",
   "id": "6dd78b73-b0d1-4dd0-804a-639e35f165bd",
   "metadata": {},
   "source": [
    "## Step 5: Evaluate Performance Using Precision@K"
   ]
  },
  {
   "cell_type": "code",
   "execution_count": 5,
   "id": "a3d96a9e-0202-4d2f-bb5b-ab97ae667fcf",
   "metadata": {},
   "outputs": [
    {
     "name": "stdout",
     "output_type": "stream",
     "text": [
      "Precision@5 for User 1: 0.00\n",
      "Average Precision@5: 0.00\n"
     ]
    }
   ],
   "source": [
    "def precision_at_k(recommendations, user_id, k=5, threshold=4.0):\n",
    "    # Get actual high-rated movies for user\n",
    "    actual_high_rated = set(data[(data['user_id'] == user_id) & (data['rating'] >= threshold)]['movie_id'])\n",
    "    \n",
    "    # Recommended movies\n",
    "    rec_movies = [rec['movie_id'] for rec in recommendations[:k]]\n",
    "    \n",
    "    # Precision\n",
    "    relevant = len(set(rec_movies) & actual_high_rated) / k\n",
    "    return relevant\n",
    "\n",
    "# Example (in practice, average over users)\n",
    "prec = precision_at_k(recs, 1)\n",
    "print(f\"Precision@5 for User 1: {prec:.2f}\")\n",
    "\n",
    "# Average over sample users\n",
    "sample_users = data['user_id'].unique()[:10]\n",
    "avg_prec = np.mean([precision_at_k(recommend_movies(u, n_recommend=5), u) for u in sample_users])\n",
    "print(f\"Average Precision@5: {avg_prec:.2f}\")  # Expect ~0.20-0.40"
   ]
  },
  {
   "cell_type": "markdown",
   "id": "642aada0-b00f-4d6b-8c11-6e1ef883775f",
   "metadata": {},
   "source": [
    "## Bonus: Item-Based Collaborative Filtering:"
   ]
  },
  {
   "cell_type": "code",
   "execution_count": 8,
   "id": "94d61fa3-8364-454f-b230-412c238ebd96",
   "metadata": {},
   "outputs": [
    {
     "name": "stdout",
     "output_type": "stream",
     "text": [
      "Item-Based Recommendations:\n",
      "- Cyclo (1995): 4.38\n",
      "- Office Killer (1997): 4.24\n",
      "- Little City (1998): 4.23\n",
      "- Death in Brunswick (1991): 4.22\n",
      "- Mamma Roma (1962): 4.18\n"
     ]
    }
   ],
   "source": [
    "# Create user-item matrix\n",
    "user_item_matrix = data.pivot_table(index='user_id', columns='movie_id', values='rating').fillna(0)\n",
    "\n",
    "# Item similarity\n",
    "item_similarity = cosine_similarity(user_item_matrix.T)\n",
    "\n",
    "# Map movie_ids to matrix indices\n",
    "movie_id_to_idx = {movie_id: idx for idx, movie_id in enumerate(user_item_matrix.columns)}\n",
    "\n",
    "def item_based_recommend(user_id, k=10, n_recommend=5):\n",
    "    user_ratings = user_item_matrix.loc[user_id]\n",
    "    unseen = user_ratings[user_ratings == 0].index\n",
    "    \n",
    "    predicted = {}\n",
    "    for movie_id in unseen:\n",
    "        if movie_id in movie_id_to_idx:  # Check if movie_id exists in matrix\n",
    "            idx = movie_id_to_idx[movie_id]\n",
    "            sim_scores = item_similarity[idx]  # Get similarity for this item\n",
    "            rated_items = user_ratings[user_ratings > 0].index\n",
    "            common = np.intersect1d(rated_items, [mid for mid in user_item_matrix.columns if mid in movie_id_to_idx])\n",
    "            if len(common) > 0:\n",
    "                common_indices = [movie_id_to_idx[mid] for mid in common]\n",
    "                weighted = np.dot(sim_scores[common_indices], user_item_matrix.loc[user_id, common])\n",
    "                sim_sum = sim_scores[common_indices].sum()\n",
    "                predicted[movie_id] = weighted / sim_sum if sim_sum != 0 else 0\n",
    "    \n",
    "    top = sorted(predicted.items(), key=lambda x: x[1], reverse=True)[:n_recommend]\n",
    "    return [{'movie_id': m, 'title': movies[movies['movie_id'] == m]['title'].iloc[0], 'predicted': r} for m, r in top]\n",
    "\n",
    "# Example for user_id=1\n",
    "item_recs = item_based_recommend(1)\n",
    "print(\"Item-Based Recommendations:\")\n",
    "for rec in item_recs:\n",
    "    print(f\"- {rec['title']}: {rec['predicted']:.2f}\")"
   ]
  },
  {
   "cell_type": "markdown",
   "id": "162391d1-2eb2-4f17-9a73-234b57043878",
   "metadata": {},
   "source": [
    "## Bonus: Matrix Factorization (SVD)"
   ]
  },
  {
   "cell_type": "code",
   "execution_count": 17,
   "id": "71f3e82b-875f-48f5-b1ce-c74c9266af19",
   "metadata": {},
   "outputs": [
    {
     "name": "stdout",
     "output_type": "stream",
     "text": [
      "SVD Recommendations for User 1:\n",
      "- E.T. the Extra-Terrestrial (1982): 3.48\n",
      "- Batman (1989): 3.11\n",
      "- Dave (1993): 2.90\n",
      "- One Flew Over the Cuckoo's Nest (1975): 2.77\n",
      "- True Lies (1994): 2.61\n"
     ]
    }
   ],
   "source": [
    "# Create user-item matrix\n",
    "user_item_matrix = data.pivot_table(index='user_id', columns='movie_id', values='rating').fillna(0)\n",
    "\n",
    "# Convert to sparse matrix\n",
    "user_item_sparse = csr_matrix(user_item_matrix.values)\n",
    "\n",
    "# SVD decomposition\n",
    "U, sigma, Vt = svds(user_item_sparse, k=50)\n",
    "sigma = np.diag(sigma)\n",
    "reconstructed = np.dot(np.dot(U, sigma), Vt)\n",
    "\n",
    "# Predict for user 1\n",
    "user1_pred = pd.DataFrame(reconstructed[0], index=user_item_matrix.columns, columns=['predicted']).sort_values('predicted', ascending=False)\n",
    "\n",
    "# Fix: Use column-wise comparison with user 1's row\n",
    "user1_ratings = user_item_matrix.iloc[0]  # Ratings for user 1\n",
    "unseen_mask = (user1_ratings == 0).reindex(user1_pred.index, fill_value=True)  # Align indices\n",
    "unseen_svd = user1_pred[unseen_mask].head(5)\n",
    "\n",
    "print(\"SVD Recommendations for User 1:\")\n",
    "for movie_id, pred in unseen_svd.iterrows():\n",
    "    title = movies[movies['movie_id'] == movie_id]['title'].iloc[0]\n",
    "    print(f\"- {title}: {pred['predicted']:.2f}\")"
   ]
  }
 ],
 "metadata": {
  "kernelspec": {
   "display_name": "Python 3 (ipykernel)",
   "language": "python",
   "name": "python3"
  },
  "language_info": {
   "codemirror_mode": {
    "name": "ipython",
    "version": 3
   },
   "file_extension": ".py",
   "mimetype": "text/x-python",
   "name": "python",
   "nbconvert_exporter": "python",
   "pygments_lexer": "ipython3",
   "version": "3.9.13"
  }
 },
 "nbformat": 4,
 "nbformat_minor": 5
}
